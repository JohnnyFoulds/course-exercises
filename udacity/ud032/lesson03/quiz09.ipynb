{
 "cells": [
  {
   "cell_type": "code",
   "execution_count": 18,
   "metadata": {},
   "outputs": [],
   "source": [
    "#!/usr/bin/env python\n",
    "# Your task here is to extract data from xml on authors of an article\n",
    "# and add it to a list, one item for an author.\n",
    "# See the provided data structure for the expected format.\n",
    "# The tags for first name, surname and email should map directly\n",
    "# to the dictionary keys\n",
    "import xml.etree.ElementTree as ET\n",
    "\n",
    "article_file = \"exampleResearchArticle.xml\"\n",
    "\n",
    "\n",
    "def get_root(fname):\n",
    "    tree = ET.parse(fname)\n",
    "    return tree.getroot()\n",
    "\n",
    "def test():\n",
    "    solution = [{'insr': ['I1'], 'fnm': 'Omer', 'snm': 'Mei-Dan', 'email': 'omer@extremegate.com'},\n",
    "                {'insr': ['I2'], 'fnm': 'Mike', 'snm': 'Carmont', 'email': 'mcarmont@hotmail.com'},\n",
    "                {'insr': ['I3', 'I4'], 'fnm': 'Lior', 'snm': 'Laver', 'email': 'laver17@gmail.com'},\n",
    "                {'insr': ['I3'], 'fnm': 'Meir', 'snm': 'Nyska', 'email': 'nyska@internet-zahav.net'},\n",
    "                {'insr': ['I8'], 'fnm': 'Hagay', 'snm': 'Kammar', 'email': 'kammarh@gmail.com'},\n",
    "                {'insr': ['I3', 'I5'], 'fnm': 'Gideon', 'snm': 'Mann', 'email': 'gideon.mann.md@gmail.com'},\n",
    "                {'insr': ['I6'], 'fnm': 'Barnaby', 'snm': 'Clarck', 'email': 'barns.nz@gmail.com'},\n",
    "                {'insr': ['I7'], 'fnm': 'Eugene', 'snm': 'Kots', 'email': 'eukots@gmail.com'}]\n",
    "\n",
    "    root = get_root(article_file)\n",
    "    data = get_authors(root)\n",
    "\n",
    "    assert data[0] == solution[0]\n",
    "    assert data[1][\"insr\"] == solution[1][\"insr\"]"
   ]
  },
  {
   "cell_type": "code",
   "execution_count": 19,
   "metadata": {},
   "outputs": [
    {
     "name": "stdout",
     "output_type": "stream",
     "text": [
      "{'fnm': 'Omer', 'snm': 'Mei-Dan', 'email': 'omer@extremegate.com', 'insr': ['I1']}\n",
      "{'fnm': 'Mike', 'snm': 'Carmont', 'email': 'mcarmont@hotmail.com', 'insr': ['I2']}\n",
      "{'fnm': 'Lior', 'snm': 'Laver', 'email': 'laver17@gmail.com', 'insr': ['I3', 'I4']}\n",
      "{'fnm': 'Meir', 'snm': 'Nyska', 'email': 'nyska@internet-zahav.net', 'insr': ['I3']}\n",
      "{'fnm': 'Hagay', 'snm': 'Kammar', 'email': 'kammarh@gmail.com', 'insr': ['I8']}\n",
      "{'fnm': 'Gideon', 'snm': 'Mann', 'email': 'gideon.mann.md@gmail.com', 'insr': ['I3', 'I5']}\n",
      "{'fnm': 'Barnaby', 'snm': 'Clarck', 'email': 'barns.nz@gmail.com', 'insr': ['I6']}\n",
      "{'fnm': 'Eugene', 'snm': 'Kots', 'email': 'eukots@gmail.com', 'insr': ['I7']}\n"
     ]
    }
   ],
   "source": [
    "def get_authors(root):\n",
    "    authors = []\n",
    "    for author in root.findall('./fm/bibl/aug/au'):\n",
    "        data = {\n",
    "                \"fnm\": None,\n",
    "                \"snm\": None,\n",
    "                \"email\": None,\n",
    "                \"insr\": []\n",
    "        }\n",
    "        \n",
    "        # load the normal field values\n",
    "        for field in data:\n",
    "            if field != \"insr\":\n",
    "                data[field] = author.find(field).text\n",
    "        \n",
    "        # load the inst values\n",
    "        for inst in author.findall(\"insr\"):\n",
    "            data[\"insr\"].append(inst.get(\"iid\"))\n",
    "        \n",
    "        # append the data record\n",
    "        print(data)\n",
    "        authors.append(data)\n",
    "        \n",
    "    return authors\n",
    "\n",
    "test()"
   ]
  }
 ],
 "metadata": {
  "kernelspec": {
   "display_name": "Python 3",
   "language": "python",
   "name": "python3"
  },
  "language_info": {
   "codemirror_mode": {
    "name": "ipython",
    "version": 3
   },
   "file_extension": ".py",
   "mimetype": "text/x-python",
   "name": "python",
   "nbconvert_exporter": "python",
   "pygments_lexer": "ipython3",
   "version": "3.8.2"
  }
 },
 "nbformat": 4,
 "nbformat_minor": 4
}
