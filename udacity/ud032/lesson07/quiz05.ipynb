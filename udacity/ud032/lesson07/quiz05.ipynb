{
 "cells": [
  {
   "cell_type": "code",
   "execution_count": 1,
   "metadata": {},
   "outputs": [
    {
     "name": "stdout",
     "output_type": "stream",
     "text": [
      "Collecting pymongo\n",
      "  Downloading pymongo-3.10.1-cp38-cp38-win_amd64.whl (355 kB)\n",
      "Installing collected packages: pymongo\n",
      "Successfully installed pymongo-3.10.1\n"
     ]
    }
   ],
   "source": [
    "!pip install pymongo"
   ]
  },
  {
   "cell_type": "code",
   "execution_count": 18,
   "metadata": {},
   "outputs": [
    {
     "name": "stdout",
     "output_type": "stream",
     "text": [
      "{'_id': ObjectId('5ed277d08a3944ea492bfc28'), 'name': 'Chicago'}\n",
      "{'_id': ObjectId('5ed2784d8a3944ea492bfc32'), 'name': 'Hertzogville'}\n"
     ]
    }
   ],
   "source": [
    "\"\"\"\n",
    "Your task is to sucessfully run the exercise to see how pymongo works\n",
    "and how easy it is to start using it.\n",
    "You don't actually have to change anything in this exercise,\n",
    "but you can change the city name in the add_city function if you like.\n",
    "\n",
    "Your code will be run against a MongoDB instance that we have provided.\n",
    "If you want to run this code on MongoDB outside of our classroom,\n",
    "please see the Instructor comments at the bottom of this page for link.\n",
    "\"\"\"\n",
    "\n",
    "def add_city(db):\n",
    "    # Changes to this function will be reflected in the output. \n",
    "    # All other functions are for local use only.\n",
    "    # Try changing the name of the city to be inserted\n",
    "    db.cities.insert_one({\"name\" : \"Hertzogville\"})\n",
    "    \n",
    "def get_city(db):\n",
    "    return db.cities.find_one()\n",
    "\n",
    "def get_db():\n",
    "    # For local use\n",
    "    from pymongo import MongoClient\n",
    "    client = MongoClient('localhost:27017')\n",
    "    # 'examples' here is the database name. It will be created if it does not exist.\n",
    "    db = client.examples\n",
    "    return db\n",
    "\n",
    "if __name__ == \"__main__\":\n",
    "    # For local use\n",
    "    db = get_db() # uncomment this line if you want to run this locally\n",
    "    add_city(db)\n",
    "    print(get_city(db))\n",
    "    \n",
    "    print(db.cities.find()[5])"
   ]
  }
 ],
 "metadata": {
  "kernelspec": {
   "display_name": "Python 3",
   "language": "python",
   "name": "python3"
  },
  "language_info": {
   "codemirror_mode": {
    "name": "ipython",
    "version": 3
   },
   "file_extension": ".py",
   "mimetype": "text/x-python",
   "name": "python",
   "nbconvert_exporter": "python",
   "pygments_lexer": "ipython3",
   "version": "3.8.2"
  }
 },
 "nbformat": 4,
 "nbformat_minor": 4
}
